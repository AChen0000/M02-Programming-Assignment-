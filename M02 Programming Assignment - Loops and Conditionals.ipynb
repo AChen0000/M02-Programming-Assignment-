#4.1
#secret = 6  
#guess = 4
#if guess < secret:
#    print('too low')
#elif guess > secret:
#    print('too high')
#else:
#    print('just right')

#4.2
#small = True
#green = False
#if small and green:
#    print("pea")
#elif small and not green:
#    print("cherry")
#elif not small and green:
#    print("watermelon")
#else:
#    print("pumpkin")

#6.1
#for value in [3, 2, 1, 0]:
#    print(value)

#6.2
#guess_me = 7
#number = 1
#while number <= guess_me:
#    if number < guess_me:
#        print('too low')
#    elif number == guess_me:
#       print('found it!')
#       break
#    else:
#        print('oops')
#        break
#    number += 1

#6.3
guess_me = 5

for number in range(10):
    if number < guess_me:
        print('too low')
    elif number == guess_me:
        print('found it!')
        break
    else:
        print('oops')
        break


